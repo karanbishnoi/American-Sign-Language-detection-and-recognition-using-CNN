{
 "cells": [
  {
   "cell_type": "code",
   "execution_count": 1,
   "metadata": {},
   "outputs": [],
   "source": [
    "import cv2\n",
    "import numpy as np\n",
    "import os\n",
    "import matplotlib.pyplot as plt\n",
    "import random"
   ]
  },
  {
   "cell_type": "code",
   "execution_count": 2,
   "metadata": {},
   "outputs": [],
   "source": [
    "# This code shows getting images for letter 'M' from a video made for creating dataset for letter 'M'\n",
    "# Similiarly we created images using mobile videos or webcam for all the letters in ASL\n",
    "\n",
    "img_path = \"/Users/ayush/Desktop/M new\" \n",
    "video_path = \"/Users/ayush/Downloads/WhatsApp Video 2021-04-08 at 16.48.36 (1).mp4\"\n",
    "\n",
    "cap = cv2.VideoCapture(video_path)\n",
    "\n",
    "ctr = 1\n",
    "IMG_SHAPE = (300, 300)\n",
    "\n",
    "while True:\n",
    "    \n",
    "    res, frame = cap.read()\n",
    "    if res == False:\n",
    "        break\n",
    "        \n",
    "    img = cv2.resize(frame, IMG_SHAPE)\n",
    "    \n",
    "    cv2.imwrite(img_path + \"/M\" + str(ctr) + \".jpg\", img)\n",
    "    ctr += 1\n",
    "    \n",
    "    if cv2.waitKey(1) & 0xFF == ord('q'):\n",
    "        break\n",
    "\n",
    "\n",
    "        \n",
    "cap.release()\n",
    "cv2.destroyAllWindows()\n",
    "print('No. of images created = ' + str(ctr))"
   ]
  }
 ],
 "metadata": {
  "kernelspec": {
   "display_name": "Python 3",
   "language": "python",
   "name": "python3"
  },
  "language_info": {
   "codemirror_mode": {
    "name": "ipython",
    "version": 3
   },
   "file_extension": ".py",
   "mimetype": "text/x-python",
   "name": "python",
   "nbconvert_exporter": "python",
   "pygments_lexer": "ipython3",
   "version": "3.8.3"
  }
 },
 "nbformat": 4,
 "nbformat_minor": 4
}
